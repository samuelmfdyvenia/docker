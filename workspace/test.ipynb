{
 "cells": [
  {
   "cell_type": "code",
   "execution_count": 2,
   "id": "e1f5b7b0-1344-4d81-89d2-9ded3133bc65",
   "metadata": {},
   "outputs": [],
   "source": [
    "import pandas as pd\n",
    "from sqlalchemy import create_engine"
   ]
  },
  {
   "cell_type": "code",
   "execution_count": 3,
   "id": "5eaf40ac-5ea2-4482-a0b9-15197fe15c89",
   "metadata": {},
   "outputs": [
    {
     "name": "stdout",
     "output_type": "stream",
     "text": [
      "Consulta de la tabla:\n",
      "   columna1 columna2\n",
      "0         1        A\n",
      "1         2        B\n",
      "2         3        C\n"
     ]
    }
   ],
   "source": [
    "# Crear un DataFrame de ejemplo\n",
    "data = {'columna1': [1, 2, 3],\n",
    "        'columna2': ['A', 'B', 'C']}\n",
    "df = pd.DataFrame(data)\n",
    "\n",
    "# Introducir las credenciales manualmente\n",
    "usuario = 'myuser'\n",
    "contrasena = 'myuser'\n",
    "host = 'postgres-db-1'\n",
    "puerto = '5432'  # Reemplaza 'tu_puerto' con el puerto correcto\n",
    "nombre_db = 'postgres'\n",
    "nombre_tabla = 'ejemplo'  # Puedes cambiar el nombre de la tabla según tus necesidades\n",
    "\n",
    "# Crear la cadena de conexión con el puerto\n",
    "conn_string = f\"postgresql://{usuario}:{contrasena}@{host}:{puerto}/{nombre_db}\"\n",
    "engine = create_engine(conn_string)\n",
    "\n",
    "\n",
    "# Introducir el DataFrame en la base de datos como una nueva tabla\n",
    "df.to_sql(nombre_tabla, con=engine, index=False, if_exists='replace')\n",
    "\n",
    "# Consulta de ejemplo para verificar que los datos se han introducido correctamente\n",
    "consulta = pd.read_sql_query(f'SELECT * FROM {nombre_tabla}', con=engine)\n",
    "print(\"Consulta de la tabla:\")\n",
    "print(consulta)\n",
    "\n",
    "# Cierre de la conexión\n",
    "engine.dispose()\n"
   ]
  },
  {
   "cell_type": "code",
   "execution_count": null,
   "id": "e5674965-6876-4437-83ff-ced99f3bbebc",
   "metadata": {},
   "outputs": [],
   "source": []
  },
  {
   "cell_type": "code",
   "execution_count": null,
   "id": "0f0abe71-8021-47b5-a27b-a854736683d6",
   "metadata": {},
   "outputs": [],
   "source": []
  }
 ],
 "metadata": {
  "kernelspec": {
   "display_name": "Python 3",
   "language": "python",
   "name": "python3"
  },
  "language_info": {
   "codemirror_mode": {
    "name": "ipython",
    "version": 3
   },
   "file_extension": ".py",
   "mimetype": "text/x-python",
   "name": "python",
   "nbconvert_exporter": "python",
   "pygments_lexer": "ipython3",
   "version": "3.8.8"
  }
 },
 "nbformat": 4,
 "nbformat_minor": 5
}
